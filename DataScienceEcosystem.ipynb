{
 "cells": [
  {
   "cell_type": "markdown",
   "id": "46fd660b-d9f1-4241-b8c8-dc0a3207313b",
   "metadata": {},
   "source": [
    "# Data Science Tools and Ecosystem"
   ]
  },
  {
   "cell_type": "markdown",
   "id": "c6aa0aa2-c882-42a2-a488-feea42aa8108",
   "metadata": {},
   "source": [
    "In this notebook, Data science Tools and Ecosystem are summarized"
   ]
  },
  {
   "cell_type": "markdown",
   "id": "c18d3a8c-7712-4433-b4ec-f34198784d2f",
   "metadata": {},
   "source": [
    "## Objectives\n",
    "* Learn the languages used in Data science\n",
    "* Learn the Libraries used in Data science\n",
    "* List the open source tools\n",
    "* Learn basic arithmetic operations used in python"
   ]
  },
  {
   "cell_type": "markdown",
   "id": "b057f36c-23a5-43e9-861b-924f1895dace",
   "metadata": {},
   "source": [
    "## Data Science Languages:\n",
    "1. Python\n",
    "2. R\n",
    "3. SQL\n",
    "4. Scala\n",
    "5. Java\n",
    "6. C++\n",
    "7. Julia"
   ]
  },
  {
   "cell_type": "markdown",
   "id": "0a2680a9-5bb3-463c-9dbc-29c19a5805eb",
   "metadata": {},
   "source": [
    "## Data Science Libraries:\n",
    "1. Pandas\n",
    "2. Numpy\n",
    "3. Scipy\n",
    "4. Matplotlib\n"
   ]
  },
  {
   "cell_type": "markdown",
   "id": "c72bcb4e-2ed3-4949-a040-12a9a0bad1a5",
   "metadata": {},
   "source": [
    "## Data Science Tools:\n",
    "\n",
    "| Data Science Tools |\n",
    "| ------------------- |\n",
    "| Jupyter Notebook |\n",
    "| RStudio |\n",
    "| Jupyter Lab |\n"
   ]
  },
  {
   "cell_type": "markdown",
   "id": "18922be9-df0b-43c9-9a18-dca158948a07",
   "metadata": {},
   "source": [
    "### Below are a few examples of evaluating arithmetic expressions in python\n"
   ]
  },
  {
   "cell_type": "code",
   "execution_count": 2,
   "id": "61040731-3227-43fc-a8fd-3156e0fb32ac",
   "metadata": {},
   "outputs": [
    {
     "name": "stdout",
     "output_type": "stream",
     "text": [
      "17\n"
     ]
    }
   ],
   "source": [
    "# simple arithmetic expression\n",
    "a=3\n",
    "b=4\n",
    "c=5\n",
    "output=(a*b)+c\n",
    "print(output)"
   ]
  },
  {
   "cell_type": "code",
   "execution_count": 3,
   "id": "ce8d0956-e65b-40a3-af30-45bc1be95764",
   "metadata": {},
   "outputs": [
    {
     "name": "stdout",
     "output_type": "stream",
     "text": [
      "3.3333333333333335\n"
     ]
    }
   ],
   "source": [
    "# convert minutes to hours\n",
    "minutes=200\n",
    "hours=minutes/60\n",
    "print(hours)"
   ]
  },
  {
   "cell_type": "code",
   "execution_count": null,
   "id": "f8b530d7-f9d2-4332-b0b3-f5de067334a5",
   "metadata": {},
   "outputs": [],
   "source": []
  },
  {
   "cell_type": "markdown",
   "id": "31179536-1b8f-40f7-939a-7cfdeaf875db",
   "metadata": {},
   "source": [
    "## Author\n",
    "Sundaraselvam P"
   ]
  },
  {
   "cell_type": "code",
   "execution_count": null,
   "id": "591346ee-966c-400b-ac76-ad023d8072da",
   "metadata": {},
   "outputs": [],
   "source": []
  }
 ],
 "metadata": {
  "kernelspec": {
   "display_name": "Python 3 (ipykernel)",
   "language": "python",
   "name": "python3"
  },
  "language_info": {
   "codemirror_mode": {
    "name": "ipython",
    "version": 3
   },
   "file_extension": ".py",
   "mimetype": "text/x-python",
   "name": "python",
   "nbconvert_exporter": "python",
   "pygments_lexer": "ipython3",
   "version": "3.11.8"
  }
 },
 "nbformat": 4,
 "nbformat_minor": 5
}
